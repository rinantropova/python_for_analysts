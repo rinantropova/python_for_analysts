{
 "cells": [
  {
   "cell_type": "markdown",
   "id": "c1bebc4e-40e6-41dc-bc19-6eec42829c3b",
   "metadata": {},
   "source": [
    "## Task 1\n",
    "Дан список adv с затратами на рекламу.\r\n",
    "Но в данных есть ошибки, некоторые затраты имеют отрицательную величину.\r\n",
    "Удалите такие значения из списка и посчитайте суммарные затраты.\r\n",
    "Запишите их в переменную x.\r\n",
    "Используйте list comprehensions."
   ]
  },
  {
   "cell_type": "code",
   "execution_count": 1,
   "id": "74d1002f-7a8f-4cb1-b091-affea497c89b",
   "metadata": {},
   "outputs": [],
   "source": [
    "adv = [100, 125, -90, 345, 655, -1, 0, 200]"
   ]
  },
  {
   "cell_type": "code",
   "execution_count": 2,
   "id": "033bbea6-38ef-4d65-8ca4-c5a52b949e19",
   "metadata": {},
   "outputs": [
    {
     "name": "stdout",
     "output_type": "stream",
     "text": [
      "1425\n"
     ]
    }
   ],
   "source": [
    "x = 0\n",
    "for i in adv:\n",
    "    if i > 0:\n",
    "        x += i\n",
    "print(x)"
   ]
  },
  {
   "cell_type": "code",
   "execution_count": 3,
   "id": "278c62ee-1e3f-4385-8ba2-4f1d71d9d730",
   "metadata": {},
   "outputs": [
    {
     "name": "stdout",
     "output_type": "stream",
     "text": [
      "1425\n"
     ]
    }
   ],
   "source": [
    "x = sum([i for i in adv if i > 0])\n",
    "print(x)"
   ]
  },
  {
   "cell_type": "markdown",
   "id": "b6b2d61a-7c46-4239-9f11-df22223eff3a",
   "metadata": {},
   "source": [
    "## Task 2\n",
    "На складе лежат разные фрукты в разном количестве.\r\n",
    "Нужно написать функцию total_fruits, которая на вход принимает любое количество названий фруктов и их количество, а возвращает общее количество фруктов на складе.\r\n",
    "\r\n",
    "можно решить через *kwargs"
   ]
  },
  {
   "cell_type": "code",
   "execution_count": 4,
   "id": "80e09e06-4b0f-468f-87d7-9af8ba0a7540",
   "metadata": {},
   "outputs": [
    {
     "name": "stdout",
     "output_type": "stream",
     "text": [
      "23\n"
     ]
    }
   ],
   "source": [
    "def total_fruits(**kwargs):\n",
    "    total_sum = 0\n",
    "    for key, value in kwargs.items():\n",
    "        total_sum += value\n",
    "    return total_sum\n",
    "\n",
    "print(total_fruits(apples=10, bananas=5, oranges=8))"
   ]
  },
  {
   "cell_type": "markdown",
   "id": "a511d44d-b16f-4c64-b1c3-8b6350ff7a36",
   "metadata": {},
   "source": [
    "## Task 3\n",
    "Даны два списка: дата покупки dates, суммы покупок по датам income.\r\n",
    "Найти итоговую сумму всех покупок в ноябре и сохранить ее в переменную x.\r\n",
    "Используйте list comprehension.\n"
   ]
  },
  {
   "cell_type": "code",
   "execution_count": 5,
   "id": "c0acd851-5318-437d-844d-f64ab4859501",
   "metadata": {},
   "outputs": [],
   "source": [
    "dates = ['2021-11-01']\n",
    "income = [100]"
   ]
  },
  {
   "cell_type": "code",
   "execution_count": 8,
   "id": "aba86644-940c-4093-b513-2bcfd6c9d2bd",
   "metadata": {},
   "outputs": [
    {
     "name": "stdout",
     "output_type": "stream",
     "text": [
      "100\n"
     ]
    }
   ],
   "source": [
    "x = sum([income[i] for i in range(len(dates)) if dates[i].split('-')[1] == '11'])\n",
    "print(x)"
   ]
  },
  {
   "cell_type": "markdown",
   "id": "bfb87698-18a3-4deb-9364-817de91b620c",
   "metadata": {},
   "source": [
    "## Task 4\n",
    "Найдите выручку компании в зависимости от месяца Для этого напишите функцию calc_income_by_month(), которая на вход принимает список с датами и список с выручкой, а на выходе словарь, где ключи - это месяцы, а значения - это выручка. Используйте аннотирование типов."
   ]
  },
  {
   "cell_type": "code",
   "execution_count": 9,
   "id": "c0d17c86-8325-4232-9ad5-5638191afc48",
   "metadata": {},
   "outputs": [],
   "source": [
    "dates = ['2021-11-01']\n",
    "incomes = [100]"
   ]
  },
  {
   "cell_type": "code",
   "execution_count": 10,
   "id": "425c8cf4-09fe-4efa-ad97-59c25fa44aa4",
   "metadata": {},
   "outputs": [
    {
     "name": "stdout",
     "output_type": "stream",
     "text": [
      "{'11': 100}\n"
     ]
    }
   ],
   "source": [
    "def calc_income_by_month(dates: list, incomes: list) -> dict:\n",
    "    res = {}\n",
    "    for date, amount in zip(dates, incomes):\n",
    "        month = date.split('-')[1]\n",
    "        if month in res:\n",
    "            res[month] += amount\n",
    "        else:\n",
    "            res[month] = amount\n",
    "    return res\n",
    "\n",
    "print(calc_income_by_month(dates = ['2021-11-01'], incomes = [100]))            "
   ]
  },
  {
   "cell_type": "code",
   "execution_count": null,
   "id": "9236485f-2e1b-472c-b44a-c1a4feabfc73",
   "metadata": {},
   "outputs": [],
   "source": []
  }
 ],
 "metadata": {
  "kernelspec": {
   "display_name": "Python 3 (ipykernel)",
   "language": "python",
   "name": "python3"
  },
  "language_info": {
   "codemirror_mode": {
    "name": "ipython",
    "version": 3
   },
   "file_extension": ".py",
   "mimetype": "text/x-python",
   "name": "python",
   "nbconvert_exporter": "python",
   "pygments_lexer": "ipython3",
   "version": "3.11.9"
  }
 },
 "nbformat": 4,
 "nbformat_minor": 5
}
