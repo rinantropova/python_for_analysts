{
 "cells": [
  {
   "cell_type": "markdown",
   "id": "a39a986a-67ae-4a23-bbc9-b4e294cbb812",
   "metadata": {},
   "source": [
    "## Task 1"
   ]
  },
  {
   "cell_type": "markdown",
   "id": "a09eb7fd-3b6d-4cbd-ac72-1abafbd2b14d",
   "metadata": {},
   "source": [
    "### Subtask 1.1\n",
    "Соедините два словаря в один"
   ]
  },
  {
   "cell_type": "code",
   "execution_count": 1,
   "id": "2f901c03-93d4-4751-b0e7-e78d38897149",
   "metadata": {},
   "outputs": [],
   "source": [
    "dict1 = {'One': 1, 'Two': 2, 'Three': 3}\n",
    "dict2 = {'Four': 4, 'Five': 5, 'Six': 6}"
   ]
  },
  {
   "cell_type": "code",
   "execution_count": 4,
   "id": "d8e79020-0216-42dd-b28c-f4c5f0f20559",
   "metadata": {},
   "outputs": [
    {
     "data": {
      "text/plain": [
       "{'One': 1, 'Two': 2, 'Three': 3, 'Four': 4, 'Five': 5, 'Six': 6}"
      ]
     },
     "execution_count": 4,
     "metadata": {},
     "output_type": "execute_result"
    }
   ],
   "source": [
    "combined_dict = {**dict1, **dict2}\n",
    "combined_dict"
   ]
  },
  {
   "cell_type": "code",
   "execution_count": 5,
   "id": "0e758e44-bde0-48f4-b573-168b2e64f2df",
   "metadata": {},
   "outputs": [],
   "source": [
    "dict1.update(dict2)"
   ]
  },
  {
   "cell_type": "code",
   "execution_count": 6,
   "id": "a741cd9f-f5fe-40c7-b6a5-e9ead639d759",
   "metadata": {},
   "outputs": [
    {
     "name": "stdout",
     "output_type": "stream",
     "text": [
      "{'One': 1, 'Two': 2, 'Three': 3, 'Four': 4, 'Five': 5, 'Six': 6}\n"
     ]
    }
   ],
   "source": [
    "print(dict1)"
   ]
  },
  {
   "cell_type": "markdown",
   "id": "ae07483a-bdee-43dc-afc6-04d8f174a2ff",
   "metadata": {},
   "source": [
    "### Subtask 1.2\n",
    "Напишите функцию, которая на вход принимает два\r\n",
    "словаря и возвращает один объединенный словар.ь\r\n",
    "Используйте аннотирование типов"
   ]
  },
  {
   "cell_type": "code",
   "execution_count": 7,
   "id": "b6090b0f-3b99-497e-b3c6-536f42879bad",
   "metadata": {},
   "outputs": [],
   "source": [
    "dict1 = {'One': 1, 'Two': 2, 'Three': 3}\n",
    "dict2 = {'Four': 4, 'Five': 5, 'Six': 6}"
   ]
  },
  {
   "cell_type": "code",
   "execution_count": 8,
   "id": "6dd82368-d8b7-47f1-a212-fe1acfc16e60",
   "metadata": {},
   "outputs": [
    {
     "name": "stdout",
     "output_type": "stream",
     "text": [
      "{'One': 1, 'Two': 2, 'Three': 3, 'Four': 4, 'Five': 5, 'Six': 6}\n"
     ]
    }
   ],
   "source": [
    "def merge_dict(dict1: dict, dict2: dict) -> dict:\n",
    "    dict1.update(dict2)\n",
    "    return dict1\n",
    "\n",
    "print(merge_dict(dict1, dict2))"
   ]
  },
  {
   "cell_type": "markdown",
   "id": "065c40e6-854e-44db-b8de-e65bc4aa0ac9",
   "metadata": {},
   "source": [
    "## Task 2\n",
    "Напишите функцию, которая из двух списков, делает один словарь, где\r\n",
    "элементы из первого списка - ключи, а элементы из второго списка -\r\n",
    "значения\r\n",
    "Используйте аннотирование тиов\r"
   ]
  },
  {
   "cell_type": "markdown",
   "id": "fb9578e5-49b0-44ac-82e2-543859657a02",
   "metadata": {},
   "source": [
    "### Subtask 2.1\n",
    "Используя цикл for"
   ]
  },
  {
   "cell_type": "code",
   "execution_count": 9,
   "id": "3daba4bb-5a15-4104-a9ad-df4e9b70b7b5",
   "metadata": {},
   "outputs": [],
   "source": [
    "keys = ['One', 'Two', 'Three']\n",
    "values = [1, 2, 3]"
   ]
  },
  {
   "cell_type": "code",
   "execution_count": 12,
   "id": "ebd4f495-7207-46a8-8172-696caaf80278",
   "metadata": {},
   "outputs": [
    {
     "name": "stdout",
     "output_type": "stream",
     "text": [
      "{'One': 1, 'Two': 2, 'Three': 3}\n"
     ]
    }
   ],
   "source": [
    "def create_dict(keys: list, values: list) -> dict:\n",
    "    dict = {}\n",
    "    for key, value in zip(keys, values):\n",
    "        dict[key] = value\n",
    "    return dict\n",
    "print(create_dict(keys, values))"
   ]
  },
  {
   "cell_type": "code",
   "execution_count": 16,
   "id": "e355895f-17c4-4230-b74a-3f386d7db838",
   "metadata": {},
   "outputs": [
    {
     "name": "stdout",
     "output_type": "stream",
     "text": [
      "{'One': 1, 'Two': 2, 'Three': 3}\n"
     ]
    }
   ],
   "source": [
    "def create_dict1(keys: list, values: list) -> dict:\n",
    "    dict = {}\n",
    "    for i in range(len(keys)):\n",
    "        dict.update({keys[i]: values[i]})\n",
    "    return dict\n",
    "\n",
    "print(create_dict1(keys, values))"
   ]
  },
  {
   "cell_type": "markdown",
   "id": "4038b624-3820-4771-a056-6e31be095743",
   "metadata": {},
   "source": [
    "### Subtask 2.2\n",
    "Используя dict comprehensions"
   ]
  },
  {
   "cell_type": "code",
   "execution_count": 15,
   "id": "bf03e26d-5782-4f1d-9c3b-6fc47d6d5574",
   "metadata": {},
   "outputs": [
    {
     "name": "stdout",
     "output_type": "stream",
     "text": [
      "{'One': 1, 'Two': 2, 'Three': 3}\n"
     ]
    }
   ],
   "source": [
    "def create_dict2(keys: list, values: list) -> dict:\n",
    "    dict2 = {key: value for key, value in zip(keys, values)}\n",
    "    return dict2\n",
    "print(create_dict2(keys, values))"
   ]
  },
  {
   "cell_type": "code",
   "execution_count": 17,
   "id": "e9be9855-6b1f-4608-b722-02b34997abbe",
   "metadata": {},
   "outputs": [
    {
     "name": "stdout",
     "output_type": "stream",
     "text": [
      "{'One': 1, 'Two': 2, 'Three': 3}\n"
     ]
    }
   ],
   "source": [
    "def create_dict3 (keys: list, values: list) -> dict:\n",
    "    return {keys[i]: values[i] for i in range(len(keys))}\n",
    "print(create_dict3(keys, values))"
   ]
  },
  {
   "cell_type": "markdown",
   "id": "fc069df3-686c-4ec9-9408-7203020fbf3b",
   "metadata": {},
   "source": [
    "## Task 3\n",
    "Извлеките только два ключа name и age из представленного \n",
    "словар\n",
    "я\n",
    "### Subtask  3.\n",
    "\n",
    "Напишите функцию с циклом for \n",
    "Функция на вход принимает:* \r\n",
    "исходный словар* ь\r\n",
    "ключи, которые нужно извлечь (аргумент по\r\n",
    "умолчанию)\r\n",
    "На выходе словарь с нужными кл.  чами\r\n",
    "Используйте аннотирование. типов1"
   ]
  },
  {
   "cell_type": "code",
   "execution_count": 22,
   "id": "54ba009b-2439-4346-999f-87259093b362",
   "metadata": {},
   "outputs": [],
   "source": [
    "client_dict = {\n",
    "    'name': 'John',\n",
    "    'age': 25,\n",
    "    'salary': 5000,\n",
    "    'city': 'Moscow'\n",
    "}"
   ]
  },
  {
   "cell_type": "code",
   "execution_count": 25,
   "id": "6ddcdaec-53e6-4654-9145-fbefc6961ba2",
   "metadata": {},
   "outputs": [
    {
     "name": "stdout",
     "output_type": "stream",
     "text": [
      "{'salary': 5000}\n"
     ]
    }
   ],
   "source": [
    "def get_keys(dict1: dict, keys: list=['name', 'age']) -> dict:\n",
    "    res = dict()\n",
    "    for i in keys:\n",
    "        res.update({i: dict1[i]})\n",
    "    return res\n",
    "\n",
    "print(get_keys(client_dict, ['salary']))"
   ]
  },
  {
   "cell_type": "markdown",
   "id": "6001bc00-75e4-438a-aedf-a2185df3aef2",
   "metadata": {},
   "source": [
    "### Subtask 3.2\n",
    "Используя dict comprehensions"
   ]
  },
  {
   "cell_type": "code",
   "execution_count": 27,
   "id": "b0f1d920-1141-450f-94f1-e406016a1d63",
   "metadata": {},
   "outputs": [
    {
     "name": "stdout",
     "output_type": "stream",
     "text": [
      "{'name': 'John', 'age': 25}\n"
     ]
    }
   ],
   "source": [
    "def get_keys_c(dict1: dict, keys: list=['name', 'age']) -> dict:\n",
    "    return {i: dict1[i] for i in keys}\n",
    "print(get_keys(client_dict))\n"
   ]
  },
  {
   "cell_type": "markdown",
   "id": "3866dbc7-089b-4770-9706-722125bc09b1",
   "metadata": {},
   "source": [
    "## Task 4\n",
    "\n",
    "### Subtask 4.1\n",
    "Сгенерируйте случайные целые числа от 0 до \n",
    "100 в количестве 5 штук с помощью модул \r\n",
    "rand\n",
    "* \n",
    "● Зафиксируйте псевдогенерацию, чт бы\r\n",
    "сгенерированные значения всегда были одинако\n",
    "* е\r\n",
    "● Используйте list comprehensions"
   ]
  },
  {
   "cell_type": "code",
   "execution_count": 28,
   "id": "dbf6bcbc-328c-47a7-bcab-d153fe306b4c",
   "metadata": {},
   "outputs": [],
   "source": [
    "import random"
   ]
  },
  {
   "cell_type": "code",
   "execution_count": 34,
   "id": "0fc95fe3-0635-40b7-b02d-a8fd64efacd0",
   "metadata": {},
   "outputs": [
    {
     "data": {
      "text/plain": [
       "[79, 32, 94, 45, 88]"
      ]
     },
     "execution_count": 34,
     "metadata": {},
     "output_type": "execute_result"
    }
   ],
   "source": [
    "random.seed(5)\n",
    "list1 = [random.randint(0, 100) for i in range(5)]\n",
    "list1"
   ]
  },
  {
   "cell_type": "markdown",
   "id": "aee5c16c-40ce-43ee-aa51-4fcc62bc4154",
   "metadata": {},
   "source": [
    "### Subtask 4.2\n",
    "Напишите генератор\r\n",
    "Генератор на вход принимает список с данными о клиенте (данные\r\n",
    "из пункта 4.1)\r\n",
    "Внутри генератора реализуйте обход по списку с данными\r\n",
    "На каждой итерации генератор будет возвращать кортеж из  вух\r\n",
    "элементов:\r\n",
    "1. данные по клиенту (в зависимости от итерации, на 0 ит рации\r\n",
    "вернется 0 элемент, на 1 итерации вернется 1 элемент и тд)\r\n",
    "2. целочисленное значение, которое показывает, скольк  секунд\r\n",
    "прошло с предыдущей \n",
    "\n",
    "**итерации\r\n",
    "П**римечание: секунды, которые возвращаются должны показыват время не\r\n",
    "с начала запуска генератора, а именн\n",
    " то время, котор е прошло с\r\n",
    "предыдущей итерации. А значит время на первой ите ации должно\r\n",
    "равняться 0.\r\n",
    "Используйте функцию time из модуля time для подсчета времени.\r\n",
    "Чтобы проверить работу таймера, запу тите проход по\r\n",
    "генератору в цикле с time.sleep(2)\r"
   ]
  },
  {
   "cell_type": "code",
   "execution_count": 37,
   "id": "f73caf65-5457-42e4-af02-d603b1eb7f41",
   "metadata": {},
   "outputs": [
    {
     "name": "stdout",
     "output_type": "stream",
     "text": [
      "(79, 0) (32, 2) (94, 2) (45, 2) (88, 2)\n"
     ]
    }
   ],
   "source": [
    "import time\n",
    "\n",
    "def gener(data: list) -> list:\n",
    "    last_time = time.time()\n",
    "    list_res = []\n",
    "    for i in data:\n",
    "        list_res.append((i, int(time.time() - last_time)))\n",
    "        last_time = time.time()\n",
    "        time.sleep(2)\n",
    "    return list_res\n",
    "\n",
    "print(*gener(list1))"
   ]
  },
  {
   "cell_type": "markdown",
   "id": "ad0b64f4-cfcd-404b-867c-9f2859b7f6ee",
   "metadata": {},
   "source": [
    "## Task 5\n",
    "\n",
    "### Subtask 5.1\n",
    "Найдите картинку в интернете и прикрепите её \n",
    "в ячейку с текстом"
   ]
  },
  {
   "cell_type": "markdown",
   "id": "428a8a56-8294-47b4-a157-20439a6c0732",
   "metadata": {},
   "source": [
    "<img src='https://th-thumbnailer.cdn-si-edu.com/ii_ZQzqzZgBKT6z9DVNhfPhZe5g=/fit-in/1600x0/filters:focal(1061x707:1062x708)/https://tf-cmsv2-smithsonianmag-media.s3.amazonaws.com/filer_public/55/95/55958815-3a8a-4032-ac7a-ff8c8ec8898a/gettyimages-1067956982.jpg'\n",
    "    width=300>"
   ]
  },
  {
   "cell_type": "markdown",
   "id": "d536d84a-8f0c-4a78-8dc6-236241fcba17",
   "metadata": {},
   "source": [
    "### Subtask 5.2\n",
    "\n",
    "Создайте следующую таблицу в ячейке с \n",
    "текстом"
   ]
  },
  {
   "cell_type": "markdown",
   "id": "245bf87c-c341-4243-afc3-36af649be288",
   "metadata": {},
   "source": [
    "<table>\n",
    "    <tr>\n",
    "        <td></td>\n",
    "        <td>Before the event</td>\n",
    "        <td>During the event</td>\n",
    "    </tr>\n",
    "    <tr>\n",
    "        <td>First control point</td>\n",
    "        <td>250</td>\n",
    "        <td>500</td>\n",
    "    </tr>\n",
    "    <tr>\n",
    "        <td>Second control point</td>\n",
    "        <td>350</td>\n",
    "        <td>700</td>\n",
    "    </tr>\n",
    "    <tr>\n",
    "        <td>Third control point</td>\n",
    "        <td>400</td>\n",
    "        <td>800</td>\n",
    "    </tr>\n",
    "    <tr>\n",
    "        <td>Win summary</td>\n",
    "        <td>1000</td>\n",
    "        <td>2000</td>\n",
    "    </tr>\n",
    "</table>"
   ]
  },
  {
   "cell_type": "markdown",
   "id": "88f7e180-92a8-462b-8d5e-22c453ba4893",
   "metadata": {},
   "source": [
    "## Task 6\n",
    "Напишите функцию, которая может принимать любое\r\n",
    "количество трат пользователя и считать сумму и среднее.\r\n",
    "На вход поступают целочисленные значения в любом\r\n",
    "количестве\r\n",
    "На выходе словарь с ключами суммы трат и средней\r\n",
    "траты\r",
    "траты\r"
   ]
  },
  {
   "cell_type": "code",
   "execution_count": 40,
   "id": "77029585-4845-4338-9494-f8691a8dd1d6",
   "metadata": {},
   "outputs": [],
   "source": [
    "from statistics import mean"
   ]
  },
  {
   "cell_type": "code",
   "execution_count": 41,
   "id": "cdce0910-5892-466d-b7bc-2ba3724cfb7c",
   "metadata": {},
   "outputs": [
    {
     "name": "stdout",
     "output_type": "stream",
     "text": [
      "{'Expense sum': 2560, 'Expense mean': 640}\n"
     ]
    }
   ],
   "source": [
    "def expenses(*args) -> dict:\n",
    "    res = {}\n",
    "    res.update({'Expense sum': sum(args)})\n",
    "    res.update({'Expense mean': mean(args)})\n",
    "    return res\n",
    "\n",
    "print(expenses(10, 500, 2000, 50))"
   ]
  },
  {
   "cell_type": "code",
   "execution_count": 42,
   "id": "61996377-5417-4263-a79a-f60f896cbefc",
   "metadata": {},
   "outputs": [
    {
     "name": "stdout",
     "output_type": "stream",
     "text": [
      "{'sum': 2560, 'mean': 640.0}\n"
     ]
    }
   ],
   "source": [
    "def calc(*args):\n",
    "    sum_e = sum(args)\n",
    "    amount_e = len(args)\n",
    "    return {'sum': sum_e, 'mean': sum_e / amount_e}\n",
    "\n",
    "print(calc(10, 500, 2000, 50))"
   ]
  },
  {
   "cell_type": "code",
   "execution_count": null,
   "id": "624da09f-9870-40b9-800e-ac7aa779bd60",
   "metadata": {},
   "outputs": [],
   "source": []
  }
 ],
 "metadata": {
  "kernelspec": {
   "display_name": "Python 3 (ipykernel)",
   "language": "python",
   "name": "python3"
  },
  "language_info": {
   "codemirror_mode": {
    "name": "ipython",
    "version": 3
   },
   "file_extension": ".py",
   "mimetype": "text/x-python",
   "name": "python",
   "nbconvert_exporter": "python",
   "pygments_lexer": "ipython3",
   "version": "3.11.9"
  }
 },
 "nbformat": 4,
 "nbformat_minor": 5
}
